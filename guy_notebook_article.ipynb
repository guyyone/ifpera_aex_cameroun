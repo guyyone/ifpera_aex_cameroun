{
 "cells": [
  {
   "cell_type": "markdown",
   "id": "c295c7de",
   "metadata": {},
   "source": [
    "<h2><font color=\"#009999\"><center>APPROXIMATION DE L'AIRE SOUS LA COURBE DEBIT VOLUME A L'AIDE DES ALGORYTHMES DE MACHINE LEARNING</center></font></h2>"
   ]
  },
  {
   "cell_type": "markdown",
   "id": "03185f13",
   "metadata": {},
   "source": [
    "### Importation des librairies pour l'analyse"
   ]
  },
  {
   "cell_type": "code",
   "execution_count": 69,
   "id": "8d990798",
   "metadata": {},
   "outputs": [],
   "source": [
    "import pandas as pd\n",
    "import numpy as np\n",
    "import pandas as pd\n",
    "import matplotlib.pyplot as plt\n",
    "import seaborn as sns\n",
    "import shap as sh\n",
    "\n",
    "import warnings\n",
    "warnings.filterwarnings('ignore')\n",
    "\n",
    "from scipy import stats\n",
    "#from scipy.stats import norm, uniform\n",
    "from scipy.stats import shapiro\n",
    "#from numpy.random import randn"
   ]
  },
  {
   "cell_type": "markdown",
   "id": "05b59768",
   "metadata": {},
   "source": [
    "> **<h3><font color=\"#0000FF\">I - IMPORTATION DE LA BASE ET PRETRAITEMENT DES DONNEES</font></h3>**"
   ]
  },
  {
   "cell_type": "code",
   "execution_count": 70,
   "id": "7da32304",
   "metadata": {},
   "outputs": [
    {
     "name": "stdout",
     "output_type": "stream",
     "text": [
      "Dimenssions de la table des données\n",
      "(220, 11)\n",
      "\n",
      "\n",
      "Liste des variables du de la table\n",
      "\n",
      "Index(['sexe', 'age', 'imc', 'vems', 'cvf', 'vems/cvf', 'dem25', 'dem50',\n",
      "       'dem75', 'aex4', 'aex_cameroun'],\n",
      "      dtype='object')\n",
      "Les deux premières lignes de la base\n"
     ]
    },
    {
     "data": {
      "text/html": [
       "<div>\n",
       "<style scoped>\n",
       "    .dataframe tbody tr th:only-of-type {\n",
       "        vertical-align: middle;\n",
       "    }\n",
       "\n",
       "    .dataframe tbody tr th {\n",
       "        vertical-align: top;\n",
       "    }\n",
       "\n",
       "    .dataframe thead th {\n",
       "        text-align: right;\n",
       "    }\n",
       "</style>\n",
       "<table border=\"1\" class=\"dataframe\">\n",
       "  <thead>\n",
       "    <tr style=\"text-align: right;\">\n",
       "      <th></th>\n",
       "      <th>sexe</th>\n",
       "      <th>age</th>\n",
       "      <th>imc</th>\n",
       "      <th>vems</th>\n",
       "      <th>cvf</th>\n",
       "      <th>vems/cvf</th>\n",
       "      <th>dem25</th>\n",
       "      <th>dem50</th>\n",
       "      <th>dem75</th>\n",
       "      <th>aex4</th>\n",
       "      <th>aex_cameroun</th>\n",
       "    </tr>\n",
       "  </thead>\n",
       "  <tbody>\n",
       "    <tr>\n",
       "      <th>0</th>\n",
       "      <td>homme</td>\n",
       "      <td>80.0</td>\n",
       "      <td>27.25</td>\n",
       "      <td>2.19</td>\n",
       "      <td>2.57</td>\n",
       "      <td>85.0</td>\n",
       "      <td>1.30</td>\n",
       "      <td>4.36</td>\n",
       "      <td>6.61</td>\n",
       "      <td>7.39</td>\n",
       "      <td>17.86</td>\n",
       "    </tr>\n",
       "    <tr>\n",
       "      <th>1</th>\n",
       "      <td>femme</td>\n",
       "      <td>88.0</td>\n",
       "      <td>35.60</td>\n",
       "      <td>1.01</td>\n",
       "      <td>1.28</td>\n",
       "      <td>79.0</td>\n",
       "      <td>0.52</td>\n",
       "      <td>1.58</td>\n",
       "      <td>2.08</td>\n",
       "      <td>1.49</td>\n",
       "      <td>4.78</td>\n",
       "    </tr>\n",
       "  </tbody>\n",
       "</table>\n",
       "</div>"
      ],
      "text/plain": [
       "    sexe   age    imc  vems   cvf  vems/cvf  dem25  dem50  dem75  aex4  \\\n",
       "0  homme  80.0  27.25  2.19  2.57      85.0   1.30   4.36   6.61  7.39   \n",
       "1  femme  88.0  35.60  1.01  1.28      79.0   0.52   1.58   2.08  1.49   \n",
       "\n",
       "   aex_cameroun  \n",
       "0         17.86  \n",
       "1          4.78  "
      ]
     },
     "execution_count": 70,
     "metadata": {},
     "output_type": "execute_result"
    }
   ],
   "source": [
    "# Fonction d'importation et prétraitement de la base\n",
    "def pretraitement (url):\n",
    "    df = pd.read_csv(url)\n",
    "    #Renommer les variables d'intérèts\n",
    "    df.columns = df.columns.str.replace('cvf1', 'cvf')\n",
    "    df.columns = df.columns.str.replace('vem1', 'vems')\n",
    "    df.columns = df.columns.str.replace('dem25ls2', 'dem25')\n",
    "    df.columns = df.columns.str.replace('dem50ls2', 'dem50')\n",
    "    df.columns = df.columns.str.replace('dem75ls2', 'dem75')\n",
    "    #df.columns = df.columns.str.replace('vemscvf1', 'vemscvf')\n",
    "    df.columns = df.columns.str.replace('vemscvf', 'vems/cvf')\n",
    "    df.columns = df.columns.str.replace('bmi', 'imc')\n",
    "    df.columns = df.columns.str.replace('aex1', 'aex4')\n",
    "    # sélection des variables d'intérèts\n",
    "    variables = ['sexe', 'age', 'imc', 'vems','cvf','vems/cvf', 'dem25', 'dem50', 'dem75','aex4']\n",
    "    df = df[variables]\n",
    "    #Supression des valeurs manquantes\n",
    "    df = df.dropna(axis = 0)\n",
    "    #Correction des types des données\n",
    "    # Variables catégorielles\n",
    "    df[\"sexe\"]=pd.Categorical(df[\"sexe\"],ordered=False)\n",
    "    # Variables numériques\n",
    "    df['age'] = df['age'].astype(float, errors = 'raise')\n",
    "    df['vems/cvf'] = df['vems/cvf'].astype(float, errors = 'raise')\n",
    "    # Renommage de la variable qualitative\n",
    "    df[\"sexe\"]=df[\"sexe\"].cat.rename_categories([\"homme\",\"femme\"])\n",
    "    # Calcul de aex de la population d'étude\n",
    "    for label, row in df.iterrows():\n",
    "        df.loc[label,'aex_cameroun'] = row['vems/cvf']*row['vems'] + row['vems'] + row['dem25']*0.25*row['cvf'] - row['vems/cvf']*row['vems'] + row['dem25'] + row['dem50']*0.25*row['cvf'] + row['dem50'] + row['dem75']*0.25*row['cvf'] + row['dem75']*0.25*row['cvf']*0.5\n",
    "        df['aex_cameroun'] = df['aex_cameroun'].round(2)\n",
    "        df['imc'] = df['imc'].round(2)\n",
    "        df.reset_index()\n",
    "    return df\n",
    "\n",
    "url = 'https://raw.githubusercontent.com/pefura/lung-function/main/Aex_dataset.csv'\n",
    "df = pretraitement(url)\n",
    "print('Dimenssions de la table des données')\n",
    "print(df.shape)\n",
    "print('')\n",
    "print('')\n",
    "print('Liste des variables du de la table')\n",
    "print('')\n",
    "print(df.columns)\n",
    "print('Les deux premières lignes de la base')\n",
    "df.head(2)"
   ]
  },
  {
   "cell_type": "code",
   "execution_count": 71,
   "id": "f16a7ab5",
   "metadata": {},
   "outputs": [
    {
     "name": "stdout",
     "output_type": "stream",
     "text": [
      "sexe --- category\n",
      "age --- float64\n",
      "imc --- float64\n",
      "vems --- float64\n",
      "cvf --- float64\n",
      "vems/cvf --- float64\n",
      "dem25 --- float64\n",
      "dem50 --- float64\n",
      "dem75 --- float64\n",
      "aex4 --- float64\n",
      "aex_cameroun --- float64\n"
     ]
    }
   ],
   "source": [
    "#vérification des types des données de la base\n",
    "for col in df.columns:\n",
    "    print(col, df[col].dtype, sep=\" --- \")"
   ]
  },
  {
   "cell_type": "markdown",
   "id": "d80fa5d7",
   "metadata": {},
   "source": [
    "> **<h3><font color=\"#0000FF\">II - ANALYSEs STATISTIQUES</font></h3>**"
   ]
  },
  {
   "cell_type": "markdown",
   "id": "87a644f3",
   "metadata": {},
   "source": [
    "> **1 - Statistiques descriptives univariées**"
   ]
  },
  {
   "cell_type": "markdown",
   "id": "df27db86",
   "metadata": {},
   "source": [
    "> 1 - 1. Variable qualitative"
   ]
  },
  {
   "cell_type": "code",
   "execution_count": 72,
   "id": "11439365",
   "metadata": {},
   "outputs": [
    {
     "name": "stdout",
     "output_type": "stream",
     "text": [
      "Répartition des genres dans la PE\n",
      "femme    127\n",
      "homme     93\n",
      "Name: sexe, dtype: int64\n",
      "\n",
      "Pourcentage du genre\n",
      "femme    57.727273\n",
      "homme    42.272727\n",
      "Name: sexe, dtype: float64\n"
     ]
    }
   ],
   "source": [
    "# variable qualitative (sexe)\n",
    "print('Répartition des genres dans la PE')\n",
    "print(df[\"sexe\"].value_counts())\n",
    "print('')\n",
    "print('Pourcentage du genre')\n",
    "print(df[\"sexe\"].value_counts(normalize = True)*100)"
   ]
  },
  {
   "cell_type": "code",
   "execution_count": 73,
   "id": "c86d0e0e",
   "metadata": {},
   "outputs": [
    {
     "data": {
      "text/plain": [
       "<Axes: xlabel='sexe', ylabel='count'>"
      ]
     },
     "execution_count": 73,
     "metadata": {},
     "output_type": "execute_result"
    },
    {
     "data": {
      "image/png": "[encoded data removed]",
      "text/plain": [
       "<Figure size 500x300 with 1 Axes>"
      ]
     },
     "metadata": {},
     "output_type": "display_data"
    }
   ],
   "source": [
    "# visualisation de la répartition \n",
    "plt.figure(figsize = (5,3))\n",
    "sns.countplot(x = df.sexe)"
   ]
  },
  {
   "cell_type": "markdown",
   "id": "c2ca9a4e",
   "metadata": {},
   "source": [
    "> 1 - 2. Variables quantitatives"
   ]
  },
  {
   "cell_type": "markdown",
   "id": "7b4c384d",
   "metadata": {},
   "source": [
    "#### Description numérique"
   ]
  },
  {
   "cell_type": "code",
   "execution_count": 74,
   "id": "28af1370",
   "metadata": {},
   "outputs": [
    {
     "data": {
      "text/html": [
       "<div>\n",
       "<style scoped>\n",
       "    .dataframe tbody tr th:only-of-type {\n",
       "        vertical-align: middle;\n",
       "    }\n",
       "\n",
       "    .dataframe tbody tr th {\n",
       "        vertical-align: top;\n",
       "    }\n",
       "\n",
       "    .dataframe thead th {\n",
       "        text-align: right;\n",
       "    }\n",
       "</style>\n",
       "<table border=\"1\" class=\"dataframe\">\n",
       "  <thead>\n",
       "    <tr style=\"text-align: right;\">\n",
       "      <th></th>\n",
       "      <th>count</th>\n",
       "      <th>min</th>\n",
       "      <th>max</th>\n",
       "      <th>median</th>\n",
       "      <th>mean</th>\n",
       "      <th>std</th>\n",
       "      <th>skew</th>\n",
       "    </tr>\n",
       "  </thead>\n",
       "  <tbody>\n",
       "    <tr>\n",
       "      <th>age</th>\n",
       "      <td>220.0</td>\n",
       "      <td>7.00</td>\n",
       "      <td>88.00</td>\n",
       "      <td>48.000</td>\n",
       "      <td>46.331818</td>\n",
       "      <td>22.100722</td>\n",
       "      <td>-0.112791</td>\n",
       "    </tr>\n",
       "    <tr>\n",
       "      <th>imc</th>\n",
       "      <td>220.0</td>\n",
       "      <td>13.02</td>\n",
       "      <td>57.81</td>\n",
       "      <td>27.140</td>\n",
       "      <td>27.662909</td>\n",
       "      <td>7.129632</td>\n",
       "      <td>1.037962</td>\n",
       "    </tr>\n",
       "    <tr>\n",
       "      <th>vems</th>\n",
       "      <td>220.0</td>\n",
       "      <td>0.54</td>\n",
       "      <td>4.36</td>\n",
       "      <td>2.035</td>\n",
       "      <td>2.049227</td>\n",
       "      <td>0.799872</td>\n",
       "      <td>0.236369</td>\n",
       "    </tr>\n",
       "    <tr>\n",
       "      <th>cvf</th>\n",
       "      <td>220.0</td>\n",
       "      <td>0.67</td>\n",
       "      <td>5.15</td>\n",
       "      <td>2.495</td>\n",
       "      <td>2.509182</td>\n",
       "      <td>0.927272</td>\n",
       "      <td>0.282427</td>\n",
       "    </tr>\n",
       "    <tr>\n",
       "      <th>vems/cvf</th>\n",
       "      <td>220.0</td>\n",
       "      <td>38.00</td>\n",
       "      <td>100.00</td>\n",
       "      <td>84.000</td>\n",
       "      <td>81.440909</td>\n",
       "      <td>9.811053</td>\n",
       "      <td>-1.512982</td>\n",
       "    </tr>\n",
       "    <tr>\n",
       "      <th>dem25</th>\n",
       "      <td>220.0</td>\n",
       "      <td>0.09</td>\n",
       "      <td>4.62</td>\n",
       "      <td>1.080</td>\n",
       "      <td>1.173045</td>\n",
       "      <td>0.693689</td>\n",
       "      <td>1.212901</td>\n",
       "    </tr>\n",
       "    <tr>\n",
       "      <th>dem50</th>\n",
       "      <td>220.0</td>\n",
       "      <td>0.26</td>\n",
       "      <td>9.27</td>\n",
       "      <td>3.125</td>\n",
       "      <td>3.237273</td>\n",
       "      <td>1.631820</td>\n",
       "      <td>0.683230</td>\n",
       "    </tr>\n",
       "    <tr>\n",
       "      <th>dem75</th>\n",
       "      <td>220.0</td>\n",
       "      <td>0.51</td>\n",
       "      <td>12.42</td>\n",
       "      <td>5.230</td>\n",
       "      <td>5.207227</td>\n",
       "      <td>2.255535</td>\n",
       "      <td>0.333469</td>\n",
       "    </tr>\n",
       "    <tr>\n",
       "      <th>aex4</th>\n",
       "      <td>220.0</td>\n",
       "      <td>0.39</td>\n",
       "      <td>29.42</td>\n",
       "      <td>6.190</td>\n",
       "      <td>7.223864</td>\n",
       "      <td>5.295458</td>\n",
       "      <td>1.031177</td>\n",
       "    </tr>\n",
       "    <tr>\n",
       "      <th>aex_cameroun</th>\n",
       "      <td>220.0</td>\n",
       "      <td>1.41</td>\n",
       "      <td>51.31</td>\n",
       "      <td>13.735</td>\n",
       "      <td>15.078591</td>\n",
       "      <td>8.942074</td>\n",
       "      <td>0.814164</td>\n",
       "    </tr>\n",
       "  </tbody>\n",
       "</table>\n",
       "</div>"
      ],
      "text/plain": [
       "              count    min     max  median       mean        std      skew\n",
       "age           220.0   7.00   88.00  48.000  46.331818  22.100722 -0.112791\n",
       "imc           220.0  13.02   57.81  27.140  27.662909   7.129632  1.037962\n",
       "vems          220.0   0.54    4.36   2.035   2.049227   0.799872  0.236369\n",
       "cvf           220.0   0.67    5.15   2.495   2.509182   0.927272  0.282427\n",
       "vems/cvf      220.0  38.00  100.00  84.000  81.440909   9.811053 -1.512982\n",
       "dem25         220.0   0.09    4.62   1.080   1.173045   0.693689  1.212901\n",
       "dem50         220.0   0.26    9.27   3.125   3.237273   1.631820  0.683230\n",
       "dem75         220.0   0.51   12.42   5.230   5.207227   2.255535  0.333469\n",
       "aex4          220.0   0.39   29.42   6.190   7.223864   5.295458  1.031177\n",
       "aex_cameroun  220.0   1.41   51.31  13.735  15.078591   8.942074  0.814164"
      ]
     },
     "execution_count": 74,
     "metadata": {},
     "output_type": "execute_result"
    }
   ],
   "source": [
    "num = df.drop(columns = ['sexe']).agg([\"count\", \"min\", \"max\", \"median\", \"mean\", \"std\", \"skew\"]).T\n",
    "num"
   ]
  },
  {
   "cell_type": "markdown",
   "id": "f14d19f7",
   "metadata": {},
   "source": [
    "#### visualisation des distributions des variables numériques"
   ]
  },
  {
   "cell_type": "code",
   "execution_count": 75,
   "id": "88cd2dee",
   "metadata": {},
   "outputs": [
    {
     "data": {
      "image/png": "[encoded data removed]",
      "text/plain": [
       "<Figure size 900x700 with 12 Axes>"
      ]
     },
     "metadata": {},
     "output_type": "display_data"
    }
   ],
   "source": [
    "def hist_var(df, bins ):\n",
    "    fig = plt.figure (figsize= (9,7))\n",
    "    ax = fig.gca()\n",
    "    hist = df.iloc[:-1].hist(ax = ax, bins=bins, grid= False, edgecolor = \"black\", color = \"#1E90FF\")\n",
    "    fig.tight_layout()\n",
    "\n",
    "hist_var(df, bins=30)"
   ]
  },
  {
   "cell_type": "code",
   "execution_count": 76,
   "id": "120f308e",
   "metadata": {},
   "outputs": [
    {
     "data": {
      "image/png": "[encoded data removed]",
      "text/plain": [
       "<Figure size 700x500 with 9 Axes>"
      ]
     },
     "metadata": {},
     "output_type": "display_data"
    }
   ],
   "source": [
    "fig = plt.figure (figsize= (7,5))\n",
    "\n",
    "plt.subplot(3,3,1)\n",
    "sns.boxplot(x=df[\"vems\"])\n",
    "\n",
    "plt.subplot(3,3,2)\n",
    "sns.boxplot(x=df[\"cvf\"])\n",
    "\n",
    "plt.subplot(3,3,3)\n",
    "sns.boxplot(x=df[\"vems/cvf\"])\n",
    "\n",
    "plt.subplot(3,3,4)\n",
    "sns.boxplot(x=df[\"imc\"])\n",
    "\n",
    "plt.subplot(3,3,5)\n",
    "sns.boxplot(x=df[\"dem25\"])\n",
    "\n",
    "plt.subplot(3,3,6)\n",
    "sns.boxplot(x=df[\"dem50\"])\n",
    "\n",
    "plt.subplot(3,3,7)\n",
    "sns.boxplot(x=df[\"dem75\"])\n",
    "\n",
    "plt.subplot(3,3,8)\n",
    "sns.boxplot(x=df[\"aex4\"])\n",
    "\n",
    "plt.subplot(3,3,9)\n",
    "sns.boxplot(x=df[\"aex_cameroun\"])\n",
    "fig.tight_layout()"
   ]
  },
  {
   "cell_type": "markdown",
   "id": "c825c97f",
   "metadata": {},
   "source": [
    "> 1 - 3. **Statistiques des variables numériques regroupées selon les modalité de la variable sexe**"
   ]
  },
  {
   "cell_type": "code",
   "execution_count": 77,
   "id": "7de712ce",
   "metadata": {},
   "outputs": [
    {
     "data": {
      "text/html": [
       "<div>\n",
       "<style scoped>\n",
       "    .dataframe tbody tr th:only-of-type {\n",
       "        vertical-align: middle;\n",
       "    }\n",
       "\n",
       "    .dataframe tbody tr th {\n",
       "        vertical-align: top;\n",
       "    }\n",
       "\n",
       "    .dataframe thead th {\n",
       "        text-align: right;\n",
       "    }\n",
       "</style>\n",
       "<table border=\"1\" class=\"dataframe\">\n",
       "  <thead>\n",
       "    <tr style=\"text-align: right;\">\n",
       "      <th></th>\n",
       "      <th>moyenne_homme</th>\n",
       "      <th>moyenne_femme</th>\n",
       "      <th>mediane_homme</th>\n",
       "      <th>mediane_femme</th>\n",
       "      <th>ecart_type_homme</th>\n",
       "      <th>ecart_type_femme</th>\n",
       "    </tr>\n",
       "  </thead>\n",
       "  <tbody>\n",
       "    <tr>\n",
       "      <th>age</th>\n",
       "      <td>42.075269</td>\n",
       "      <td>49.448819</td>\n",
       "      <td>42.00</td>\n",
       "      <td>49.00</td>\n",
       "      <td>23.189314</td>\n",
       "      <td>20.812355</td>\n",
       "    </tr>\n",
       "    <tr>\n",
       "      <th>imc</th>\n",
       "      <td>25.390538</td>\n",
       "      <td>29.326929</td>\n",
       "      <td>25.26</td>\n",
       "      <td>28.40</td>\n",
       "      <td>6.027769</td>\n",
       "      <td>7.430911</td>\n",
       "    </tr>\n",
       "    <tr>\n",
       "      <th>vems</th>\n",
       "      <td>2.280538</td>\n",
       "      <td>1.879843</td>\n",
       "      <td>2.35</td>\n",
       "      <td>1.82</td>\n",
       "      <td>0.835005</td>\n",
       "      <td>0.731111</td>\n",
       "    </tr>\n",
       "    <tr>\n",
       "      <th>cvf</th>\n",
       "      <td>2.846022</td>\n",
       "      <td>2.262520</td>\n",
       "      <td>2.79</td>\n",
       "      <td>2.30</td>\n",
       "      <td>0.944055</td>\n",
       "      <td>0.835857</td>\n",
       "    </tr>\n",
       "    <tr>\n",
       "      <th>vems/cvf</th>\n",
       "      <td>79.784946</td>\n",
       "      <td>82.653543</td>\n",
       "      <td>83.00</td>\n",
       "      <td>84.00</td>\n",
       "      <td>11.227731</td>\n",
       "      <td>8.470657</td>\n",
       "    </tr>\n",
       "    <tr>\n",
       "      <th>dem25</th>\n",
       "      <td>1.303548</td>\n",
       "      <td>1.077480</td>\n",
       "      <td>1.23</td>\n",
       "      <td>0.98</td>\n",
       "      <td>0.740032</td>\n",
       "      <td>0.643999</td>\n",
       "    </tr>\n",
       "    <tr>\n",
       "      <th>dem50</th>\n",
       "      <td>3.563763</td>\n",
       "      <td>2.998189</td>\n",
       "      <td>3.48</td>\n",
       "      <td>2.82</td>\n",
       "      <td>1.740653</td>\n",
       "      <td>1.509862</td>\n",
       "    </tr>\n",
       "    <tr>\n",
       "      <th>dem75</th>\n",
       "      <td>5.691505</td>\n",
       "      <td>4.852598</td>\n",
       "      <td>5.80</td>\n",
       "      <td>4.92</td>\n",
       "      <td>2.420061</td>\n",
       "      <td>2.065496</td>\n",
       "    </tr>\n",
       "    <tr>\n",
       "      <th>aex4</th>\n",
       "      <td>8.778387</td>\n",
       "      <td>6.085512</td>\n",
       "      <td>8.36</td>\n",
       "      <td>5.20</td>\n",
       "      <td>6.071339</td>\n",
       "      <td>4.328416</td>\n",
       "    </tr>\n",
       "    <tr>\n",
       "      <th>aex_cameroun</th>\n",
       "      <td>17.641075</td>\n",
       "      <td>13.202126</td>\n",
       "      <td>17.79</td>\n",
       "      <td>11.39</td>\n",
       "      <td>9.751128</td>\n",
       "      <td>7.820286</td>\n",
       "    </tr>\n",
       "  </tbody>\n",
       "</table>\n",
       "</div>"
      ],
      "text/plain": [
       "              moyenne_homme  moyenne_femme  mediane_homme  mediane_femme  \\\n",
       "age               42.075269      49.448819          42.00          49.00   \n",
       "imc               25.390538      29.326929          25.26          28.40   \n",
       "vems               2.280538       1.879843           2.35           1.82   \n",
       "cvf                2.846022       2.262520           2.79           2.30   \n",
       "vems/cvf          79.784946      82.653543          83.00          84.00   \n",
       "dem25              1.303548       1.077480           1.23           0.98   \n",
       "dem50              3.563763       2.998189           3.48           2.82   \n",
       "dem75              5.691505       4.852598           5.80           4.92   \n",
       "aex4               8.778387       6.085512           8.36           5.20   \n",
       "aex_cameroun      17.641075      13.202126          17.79          11.39   \n",
       "\n",
       "              ecart_type_homme  ecart_type_femme  \n",
       "age                  23.189314         20.812355  \n",
       "imc                   6.027769          7.430911  \n",
       "vems                  0.835005          0.731111  \n",
       "cvf                   0.944055          0.835857  \n",
       "vems/cvf             11.227731          8.470657  \n",
       "dem25                 0.740032          0.643999  \n",
       "dem50                 1.740653          1.509862  \n",
       "dem75                 2.420061          2.065496  \n",
       "aex4                  6.071339          4.328416  \n",
       "aex_cameroun          9.751128          7.820286  "
      ]
     },
     "execution_count": 77,
     "metadata": {},
     "output_type": "execute_result"
    }
   ],
   "source": [
    "moyenne_groupe = df.groupby('sexe').mean()\n",
    "mediane_groupe = df.groupby('sexe').median()\n",
    "ecart_type_groupe = df.groupby('sexe').std()\n",
    "caracteristique_groupe = pd.concat([moyenne_groupe, mediane_groupe, ecart_type_groupe], ignore_index = True).rename(index={0: 'moyenne_homme', 1: 'moyenne_femme', 2: 'mediane_homme', 3: 'mediane_femme', 4: 'ecart_type_homme', 5: 'ecart_type_femme'}).T\n",
    "caracteristique_groupe"
   ]
  },
  {
   "cell_type": "markdown",
   "id": "827f04fd",
   "metadata": {},
   "source": [
    "#### Ecart entre les valeurs extrèmes de aex_cameroun par rapport au genre"
   ]
  },
  {
   "cell_type": "code",
   "execution_count": 78,
   "id": "8a912e41",
   "metadata": {},
   "outputs": [
    {
     "data": {
      "text/plain": [
       "sexe\n",
       "homme    49.82\n",
       "femme    35.18\n",
       "Name: aex_cameroun, dtype: float64"
      ]
     },
     "execution_count": 78,
     "metadata": {},
     "output_type": "execute_result"
    }
   ],
   "source": [
    "diff_aex_cameroun = df.groupby('sexe')['aex_cameroun']\\\n",
    "                        .apply(lambda x : x.max()-x.min())\n",
    "diff_aex_cameroun.sort_values(ascending = False).head()"
   ]
  },
  {
   "cell_type": "markdown",
   "id": "2817dfb2",
   "metadata": {},
   "source": [
    "#### Ecart entre les valeurs extrèmes de aex4 par rapport au genre"
   ]
  },
  {
   "cell_type": "code",
   "execution_count": 79,
   "id": "594567a2",
   "metadata": {},
   "outputs": [
    {
     "data": {
      "text/plain": [
       "sexe\n",
       "homme    28.90\n",
       "femme    17.79\n",
       "Name: aex4, dtype: float64"
      ]
     },
     "execution_count": 79,
     "metadata": {},
     "output_type": "execute_result"
    }
   ],
   "source": [
    "diff_aex_cameroun = df.groupby('sexe')['aex4']\\\n",
    "                        .apply(lambda x : x.max()-x.min())\n",
    "diff_aex_cameroun.sort_values(ascending = False).head()"
   ]
  },
  {
   "cell_type": "markdown",
   "id": "b9fbcc17",
   "metadata": {},
   "source": [
    "> 1 - 4. Tableau de correlation entre aex_cameroun et les autres variables "
   ]
  },
  {
   "cell_type": "code",
   "execution_count": 80,
   "id": "ec4e2024",
   "metadata": {},
   "outputs": [
    {
     "data": {
      "text/plain": [
       "age            -0.335873\n",
       "imc             0.035093\n",
       "vems            0.947805\n",
       "cvf             0.874234\n",
       "vems/cvf        0.400565\n",
       "dem25           0.811189\n",
       "dem50           0.903500\n",
       "dem75           0.933297\n",
       "aex4            0.969164\n",
       "aex_cameroun    1.000000\n",
       "Name: aex_cameroun, dtype: float64"
      ]
     },
     "execution_count": 80,
     "metadata": {},
     "output_type": "execute_result"
    }
   ],
   "source": [
    "df.corr()[\"aex_cameroun\"]"
   ]
  },
  {
   "cell_type": "markdown",
   "id": "2b11f0c3",
   "metadata": {},
   "source": [
    "> 1 - 5. Visualisation de la matrice de corrélation "
   ]
  },
  {
   "cell_type": "code",
   "execution_count": 81,
   "id": "83c2f158",
   "metadata": {},
   "outputs": [
    {
     "data": {
      "text/plain": [
       "<Axes: >"
      ]
     },
     "execution_count": 81,
     "metadata": {},
     "output_type": "execute_result"
    },
    {
     "data": {
      "image/png": "[encoded data removed]",
      "text/plain": [
       "<Figure size 200x400 with 2 Axes>"
      ]
     },
     "metadata": {},
     "output_type": "display_data"
    }
   ],
   "source": [
    "fig = plt.figure (figsize= (2,4))\n",
    "sns.heatmap(pd.DataFrame([df.corr()[\"aex_cameroun\"]]).T)"
   ]
  },
  {
   "cell_type": "code",
   "execution_count": 82,
   "id": "8fc06db2",
   "metadata": {},
   "outputs": [],
   "source": [
    "#plt.plot(x_coordinates,y_coordinates)"
   ]
  },
  {
   "cell_type": "markdown",
   "id": "ca314298",
   "metadata": {},
   "source": [
    "> test de normalité"
   ]
  },
  {
   "cell_type": "code",
   "execution_count": 83,
   "id": "0c8ee4b4",
   "metadata": {},
   "outputs": [
    {
     "name": "stdout",
     "output_type": "stream",
     "text": [
      "age\n",
      "ShapiroResult(statistic=0.9630807042121887, pvalue=1.7610434952075593e-05)\n",
      "vem\n",
      "ShapiroResult(statistic=0.9808815121650696, pvalue=0.00445652287453413)\n",
      "cvf\n",
      "ShapiroResult(statistic=0.9837042689323425, pvalue=0.012350726872682571)\n",
      "vems/cvf\n",
      "ShapiroResult(statistic=0.8909276723861694, pvalue=1.555525673546665e-11)\n",
      "imc\n",
      "ShapiroResult(statistic=0.944932758808136, pvalue=2.083883572367995e-07)\n",
      "dem25\n",
      "ShapiroResult(statistic=0.9314005374908447, pvalue=1.2801110393922954e-08)\n",
      "dem50\n",
      "ShapiroResult(statistic=0.9696213006973267, pvalue=0.00011391218868084252)\n",
      "dem75\n",
      "ShapiroResult(statistic=0.9877090454101562, pvalue=0.05546912923455238)\n",
      "aex4\n",
      "ShapiroResult(statistic=0.9179260730743408, pvalue=1.0904118719068379e-09)\n",
      "aex_cameroun\n",
      "ShapiroResult(statistic=0.9502086043357849, pvalue=6.885423999847262e-07)\n"
     ]
    }
   ],
   "source": [
    "# test de shapiro\n",
    "print('age');\n",
    "print(shapiro(df ['age']));\n",
    "print('vem');\n",
    "print(shapiro(df ['vems']));\n",
    "print('cvf');\n",
    "print(shapiro(df ['cvf']));\n",
    "print('vems/cvf');\n",
    "print(shapiro(df ['vems/cvf']));\n",
    "print('imc');\n",
    "print(shapiro(df ['imc']));\n",
    "print('dem25');\n",
    "print(shapiro(df ['dem25']));\n",
    "print('dem50');\n",
    "print(shapiro(df ['dem50']));\n",
    "print('dem75');\n",
    "print(shapiro(df ['dem75']));\n",
    "print('aex4');\n",
    "print(shapiro(df ['aex4']));\n",
    "print('aex_cameroun');\n",
    "print(shapiro(df ['aex_cameroun']))"
   ]
  },
  {
   "cell_type": "markdown",
   "id": "efeb3794",
   "metadata": {},
   "source": [
    "> 2 - Descriptions bivariées"
   ]
  },
  {
   "cell_type": "markdown",
   "id": "dcc36e65",
   "metadata": {},
   "source": [
    "> 2 - 1. Analyses bivariées entre le sexe et les variables aex4 et aex_cameroun"
   ]
  },
  {
   "cell_type": "code",
   "execution_count": 84,
   "id": "f255f039",
   "metadata": {},
   "outputs": [
    {
     "name": "stdout",
     "output_type": "stream",
     "text": [
      "        aex4                                                     \n",
      "       count      mean       std   min   25%   50%     75%    max\n",
      "sexe                                                             \n",
      "homme   93.0  8.778387  6.071339  0.52  3.47  8.36  12.690  29.42\n",
      "femme  127.0  6.085512  4.328416  0.39  2.57  5.20   9.065  18.18\n"
     ]
    },
    {
     "data": {
      "text/plain": [
       "<Axes: xlabel='aex4', ylabel='sexe'>"
      ]
     },
     "execution_count": 84,
     "metadata": {},
     "output_type": "execute_result"
    },
    {
     "data": {
      "image/png": "[encoded data removed]",
      "text/plain": [
       "<Figure size 400x300 with 1 Axes>"
      ]
     },
     "metadata": {},
     "output_type": "display_data"
    }
   ],
   "source": [
    "#  sexe et aex4\n",
    "print(df[[\"aex4\", \"sexe\"]].groupby(\"sexe\").describe())\n",
    "fig = plt.figure (figsize= (4,3))\n",
    "sns.boxplot( data=df, x =\"aex4\", y = \"sexe\")"
   ]
  },
  {
   "cell_type": "code",
   "execution_count": 85,
   "id": "0433a776",
   "metadata": {},
   "outputs": [
    {
     "name": "stdout",
     "output_type": "stream",
     "text": [
      "      aex_cameroun                                                       \n",
      "             count       mean       std   min    25%    50%    75%    max\n",
      "sexe                                                                     \n",
      "homme         93.0  17.641075  9.751128  1.49  10.25  17.79  23.90  51.31\n",
      "femme        127.0  13.202126  7.820286  1.41   6.90  11.39  18.53  36.59\n"
     ]
    },
    {
     "data": {
      "text/plain": [
       "<Axes: xlabel='aex_cameroun', ylabel='sexe'>"
      ]
     },
     "execution_count": 85,
     "metadata": {},
     "output_type": "execute_result"
    },
    {
     "data": {
      "image/png": "[encoded data removed]",
      "text/plain": [
       "<Figure size 400x300 with 1 Axes>"
      ]
     },
     "metadata": {},
     "output_type": "display_data"
    }
   ],
   "source": [
    "#  sexe et aex_cameroun\n",
    "print(df[[\"aex_cameroun\", \"sexe\"]].groupby(\"sexe\").describe())\n",
    "fig = plt.figure (figsize= (4,3))\n",
    "sns.boxplot(data=df, x =\"aex_cameroun\", y = \"sexe\")"
   ]
  },
  {
   "cell_type": "code",
   "execution_count": 86,
   "id": "498c2047",
   "metadata": {},
   "outputs": [
    {
     "data": {
      "text/plain": [
       "<seaborn.axisgrid.JointGrid at 0x215a4e2c610>"
      ]
     },
     "execution_count": 86,
     "metadata": {},
     "output_type": "execute_result"
    },
    {
     "data": {
      "text/plain": [
       "<Figure size 400x300 with 0 Axes>"
      ]
     },
     "metadata": {},
     "output_type": "display_data"
    },
    {
     "data": {
      "image/png": "[encoded data removed]",
      "text/plain": [
       "<Figure size 600x600 with 3 Axes>"
      ]
     },
     "metadata": {},
     "output_type": "display_data"
    }
   ],
   "source": [
    "fig = plt.figure (figsize= (4,3))\n",
    "sns.jointplot(x = \"aex4\", y = \"aex_cameroun\", kind = 'reg', data = df)"
   ]
  },
  {
   "cell_type": "markdown",
   "id": "6ae644d8",
   "metadata": {},
   "source": [
    "> Descriptions graphique de la relation entre aex_cameroun (variable expliquée) et les autres variables numériques"
   ]
  },
  {
   "cell_type": "code",
   "execution_count": 87,
   "id": "cebea4e3",
   "metadata": {},
   "outputs": [
    {
     "data": {
      "image/png": "[encoded data removed]",
      "text/plain": [
       "<Figure size 1000x500 with 9 Axes>"
      ]
     },
     "metadata": {},
     "output_type": "display_data"
    }
   ],
   "source": [
    "fig, axs = plt.subplots(3, 3, figsize=(10, 5))\n",
    "#plt.figure(figsize=(15,10))\n",
    "#fig, axs = plt.subplots(3, 3)\n",
    "\n",
    "axs[0, 0].plot(df['age'], df['aex_cameroun'], \"r.\")\n",
    "axs[0, 0].set_title(\"aex_Cameroun fonction age\")\n",
    "axs[0, 1].plot(df['vems/cvf'], df['aex_cameroun'], \"r.\")\n",
    "axs[0, 1].set_title(\"aex_Cameroun fonction vems/cvf\")\n",
    "axs[0, 2].plot(df['imc'], df['aex_cameroun'], \"r.\")\n",
    "axs[0, 2].set_title(\"aex_Cameroun fonction imc\")\n",
    "axs[1, 0].plot(df['cvf'], df['aex_cameroun'], \"g.\")\n",
    "axs[1, 0].set_title(\"aex_Cameroun fonction cvf\")\n",
    "axs[1, 1].plot(df['dem25'], df['aex_cameroun'], \"g.\")\n",
    "axs[1, 1].set_title(\"aex_Cameroun fonction dem25\")\n",
    "axs[1, 2].plot(df['dem50'], df['aex_cameroun'], \"g.\")\n",
    "axs[1, 2].set_title(\"aex_Cameroun fonction dem50\")\n",
    "axs[2, 0].plot(df['dem75'], df['aex_cameroun'], \"b.\")\n",
    "axs[2, 0].set_title(\"aex_Cameroun fonction dem75\")\n",
    "axs[2, 1].plot(df['vems'], df['aex_cameroun'], \"b.\")\n",
    "axs[2, 1].set_title(\"aex_Cameroun fonction vems\")\n",
    "axs[2, 2].plot(df['aex4'], df['aex_cameroun'], \"b.\")\n",
    "axs[2, 2].set_title(\"aex_Cameroun fonction aex4\")\n",
    "\n",
    "# espacer les différents graphiques\n",
    "fig.tight_layout()\n",
    "\n",
    "plt.show()"
   ]
  },
  {
   "cell_type": "markdown",
   "id": "9dbe67c0",
   "metadata": {},
   "source": [
    "> ****"
   ]
  },
  {
   "cell_type": "markdown",
   "id": "f45ffb5f",
   "metadata": {},
   "source": [
    "> **<h3><font color=\"#0000FF\">III -  ANALYSE PREDICTIVE</font></h3>**"
   ]
  },
  {
   "cell_type": "markdown",
   "id": "c6c084b5",
   "metadata": {},
   "source": [
    "> Importation des bibliothèques"
   ]
  },
  {
   "cell_type": "code",
   "execution_count": 88,
   "id": "7f32b8b6",
   "metadata": {},
   "outputs": [],
   "source": [
    "from sklearn.ensemble import RandomForestRegressor\n",
    "from sklearn.ensemble import GradientBoostingRegressor\n",
    "from sklearn.neighbors import KNeighborsRegressor\n",
    "from sklearn import svm\n",
    "from sklearn.svm import SVC\n",
    "from sklearn.neural_network import MLPRegressor\n",
    "\n",
    "from sklearn.model_selection import train_test_split\n",
    "from sklearn.pipeline import Pipeline\n",
    "from sklearn.preprocessing import RobustScaler\n",
    "from sklearn import preprocessing\n",
    "\n",
    "from sklearn.compose import ColumnTransformer\n",
    "from sklearn.compose import make_column_selector\n",
    "\n",
    "from sklearn.model_selection import cross_validate\n",
    "from sklearn.model_selection import StratifiedKFold\n",
    "from sklearn.model_selection import RandomizedSearchCV\n",
    "\n",
    "from sklearn.ensemble import VotingRegressor\n",
    "from sklearn.metrics import make_scorer\n",
    "from sklearn.metrics import r2_score\n",
    "from sklearn.metrics import mean_squared_error\n",
    "from RegscorePy import *\n",
    "from sklearn.model_selection import learning_curve"
   ]
  },
  {
   "cell_type": "code",
   "execution_count": 89,
   "id": "afb1bc72",
   "metadata": {},
   "outputs": [],
   "source": [
    "data = df.copy()"
   ]
  },
  {
   "cell_type": "code",
   "execution_count": 90,
   "id": "acf65e17",
   "metadata": {},
   "outputs": [
    {
     "data": {
      "text/plain": [
       "Index(['sexe', 'age', 'imc', 'vems', 'cvf', 'vems/cvf', 'dem25', 'dem50',\n",
       "       'dem75', 'aex4', 'aex_cameroun'],\n",
       "      dtype='object')"
      ]
     },
     "execution_count": 90,
     "metadata": {},
     "output_type": "execute_result"
    }
   ],
   "source": [
    "data.columns"
   ]
  },
  {
   "cell_type": "markdown",
   "id": "bf520ca5",
   "metadata": {},
   "source": [
    "> 1 - Sélection de la base des données de prédiction"
   ]
  },
  {
   "cell_type": "code",
   "execution_count": 91,
   "id": "4db5ffd7",
   "metadata": {},
   "outputs": [],
   "source": [
    "df = df.drop(columns = ['sexe', 'age', 'imc', 'aex4'])"
   ]
  },
  {
   "cell_type": "code",
   "execution_count": 92,
   "id": "6635d3db",
   "metadata": {},
   "outputs": [
    {
     "data": {
      "text/html": [
       "<div>\n",
       "<style scoped>\n",
       "    .dataframe tbody tr th:only-of-type {\n",
       "        vertical-align: middle;\n",
       "    }\n",
       "\n",
       "    .dataframe tbody tr th {\n",
       "        vertical-align: top;\n",
       "    }\n",
       "\n",
       "    .dataframe thead th {\n",
       "        text-align: right;\n",
       "    }\n",
       "</style>\n",
       "<table border=\"1\" class=\"dataframe\">\n",
       "  <thead>\n",
       "    <tr style=\"text-align: right;\">\n",
       "      <th></th>\n",
       "      <th>vems</th>\n",
       "      <th>cvf</th>\n",
       "      <th>vems/cvf</th>\n",
       "      <th>dem25</th>\n",
       "      <th>dem50</th>\n",
       "      <th>dem75</th>\n",
       "      <th>aex_cameroun</th>\n",
       "    </tr>\n",
       "  </thead>\n",
       "  <tbody>\n",
       "    <tr>\n",
       "      <th>0</th>\n",
       "      <td>2.19</td>\n",
       "      <td>2.57</td>\n",
       "      <td>85.0</td>\n",
       "      <td>1.30</td>\n",
       "      <td>4.36</td>\n",
       "      <td>6.61</td>\n",
       "      <td>17.86</td>\n",
       "    </tr>\n",
       "    <tr>\n",
       "      <th>1</th>\n",
       "      <td>1.01</td>\n",
       "      <td>1.28</td>\n",
       "      <td>79.0</td>\n",
       "      <td>0.52</td>\n",
       "      <td>1.58</td>\n",
       "      <td>2.08</td>\n",
       "      <td>4.78</td>\n",
       "    </tr>\n",
       "  </tbody>\n",
       "</table>\n",
       "</div>"
      ],
      "text/plain": [
       "   vems   cvf  vems/cvf  dem25  dem50  dem75  aex_cameroun\n",
       "0  2.19  2.57      85.0   1.30   4.36   6.61         17.86\n",
       "1  1.01  1.28      79.0   0.52   1.58   2.08          4.78"
      ]
     },
     "execution_count": 92,
     "metadata": {},
     "output_type": "execute_result"
    }
   ],
   "source": [
    "df.head(2)"
   ]
  },
  {
   "cell_type": "markdown",
   "id": "fb62dfb8",
   "metadata": {},
   "source": [
    "> 2 - selection des prédicteurs et de la variable réponse"
   ]
  },
  {
   "cell_type": "code",
   "execution_count": 93,
   "id": "df2d2daf",
   "metadata": {},
   "outputs": [],
   "source": [
    "y = df['aex_cameroun']\n",
    "X = df.drop(columns =['aex_cameroun'])\n",
    "X_train, X_test, y_train, y_test = train_test_split(X, y,test_size=0.2, random_state=0)"
   ]
  },
  {
   "cell_type": "markdown",
   "id": "42325e9b",
   "metadata": {},
   "source": [
    "> 3 - Normalisationdes données pour les utiliser dans certains modèles"
   ]
  },
  {
   "cell_type": "code",
   "execution_count": 94,
   "id": "d24ed2fe",
   "metadata": {},
   "outputs": [],
   "source": [
    "scaler = RobustScaler()\n",
    "X_train_scaled = scaler.fit_transform(X_train)\n",
    "X_test_scaled = scaler.transform(X_test)"
   ]
  },
  {
   "cell_type": "code",
   "execution_count": 95,
   "id": "f5533a2a",
   "metadata": {},
   "outputs": [],
   "source": [
    "# définition du pipeline et de algorithmes de prédiction\n",
    "preprocessor= ColumnTransformer(transformers=[('scaler',  RobustScaler(), make_column_selector(dtype_include=np.number))])\n",
    "\n",
    "\n",
    "# Forêt aléatoire\n",
    "RF = Pipeline(steps=[('preprocessor', preprocessor ),\n",
    "                   ('RF', RandomForestRegressor(random_state=0)) ])\n",
    "\n",
    "# Gradient boosting \n",
    "GB = Pipeline(steps=[('preprocessor', preprocessor ),\n",
    "                   ('GB', GradientBoostingRegressor(random_state=0)) ])\n",
    "\n",
    "# Plus proches voisins \n",
    "KNN = Pipeline(steps=[('preprocessor', preprocessor ),\n",
    "                   ('KNN', KNeighborsRegressor()) ])\n",
    "\n",
    "# Machine à vecteur de support\n",
    "MVS = Pipeline(steps=[('preprocessor', preprocessor ),\n",
    "                   ('MVS', svm.SVR())])\n",
    "\n",
    "# Reseau de neurones\n",
    "MLP = Pipeline(steps=[('preprocessor', preprocessor ),\n",
    "                   ('MLP', MLPRegressor(random_state=0))])"
   ]
  },
  {
   "cell_type": "markdown",
   "id": "faef46af",
   "metadata": {},
   "source": [
    "> 4 - Recherche des hypers parametres optimaux"
   ]
  },
  {
   "cell_type": "code",
   "execution_count": 96,
   "id": "3b157d75",
   "metadata": {},
   "outputs": [
    {
     "name": "stdout",
     "output_type": "stream",
     "text": [
      "Fitting 5 folds for each of 10 candidates, totalling 50 fits\n"
     ]
    }
   ],
   "source": [
    "# Définir la plage des hyperparamètres pour le modèle Forêt aleatoire\n",
    "distributions = dict(max_depth=np.arange(1,10),\n",
    "                     n_estimators=np.arange(60,600))\n",
    "clf_RF = RandomizedSearchCV(RF.steps[1][1], distributions, random_state=1, scoring = 'neg_root_mean_squared_error')\n",
    "search_RF = clf_RF.fit(X_train, y_train)\n",
    "\n",
    "\n",
    "\n",
    "# Gradient boosting\n",
    "distributions = dict(max_depth=np.arange(1,10),\n",
    "                     n_estimators=np.arange(60,600))\n",
    "clf_GB = RandomizedSearchCV(GB.steps[1][1], distributions, random_state=1)\n",
    "search_GB = clf_GB.fit(X_train, y_train)\n",
    "\n",
    "\n",
    "\n",
    "# Définir la plage des hyperparamètres pour le modèle KNN\n",
    "distributions = dict(n_neighbors=np.arange(1,100))\n",
    "# Configurer la recherche aléatoire\n",
    "Rand_CV = RandomizedSearchCV(KNN.steps[1][1], distributions, random_state=1,  scoring = \"neg_root_mean_squared_error\")\n",
    "search_KNN =  Rand_CV.fit(X_train_scaled, y_train)\n",
    "\n",
    "\n",
    "\n",
    "# Définir la plage des hyperparamètres pour le model MVS\n",
    "params = {'C':[0.01,0.05,0.1,0.5,1,2,5],'epsilon':[0.1,0.2,0.5,1]}\n",
    "# Configurer la recherche aléatoire\n",
    "Rand_CV = RandomizedSearchCV(MVS.steps[1][1],param_distributions=params,cv=5,scoring='neg_root_mean_squared_error',verbose=1,return_train_score=True)\n",
    "search_MVS = Rand_CV.fit(X_train,y_train)\n",
    "\n",
    "\n",
    "\n",
    "# Définir la plage des hyperparamètres pour le model MPL\n",
    "distributions = dict(hidden_layer_sizes=np.arange(1,1000))\n",
    "# Configurer la recherche aléatoire\n",
    "clf_MPL = RandomizedSearchCV(MLP.steps[1][1], distributions, random_state=1, scoring = 'neg_root_mean_squared_error')\n",
    "search_MPL =  clf_MPL.fit(X_train_scaled, y_train)"
   ]
  },
  {
   "cell_type": "code",
   "execution_count": 97,
   "id": "f9e9f47d",
   "metadata": {},
   "outputs": [
    {
     "name": "stdout",
     "output_type": "stream",
     "text": [
      "meilleur hypers parametres RF---{'n_estimators': 505, 'max_depth': 8}\n",
      "meilleur hypers parametres GB---{'n_estimators': 425, 'max_depth': 2}\n",
      "meilleur hypers parametres KNN---{'n_neighbors': 18}\n",
      "meilleur hypers parametres MVS---SVR(C=5, epsilon=1)\n",
      "meilleur hypers parametres MPL---{'hidden_layer_sizes': 929}\n"
     ]
    }
   ],
   "source": [
    "print('meilleur hypers parametres RF', search_RF.best_params_, sep = '---')\n",
    "print('meilleur hypers parametres GB', search_GB.best_params_, sep = '---')\n",
    "print('meilleur hypers parametres KNN', search_KNN.best_params_, sep = '---')\n",
    "print('meilleur hypers parametres MVS' , search_MVS.best_estimator_, sep = '---')\n",
    "print('meilleur hypers parametres MPL', search_MPL.best_params_, sep = '---')"
   ]
  },
  {
   "cell_type": "markdown",
   "id": "ab311926",
   "metadata": {},
   "source": [
    "> 5 - Définition de tous les modèles avec leurs hyperparamètres respectifs"
   ]
  },
  {
   "cell_type": "code",
   "execution_count": 98,
   "id": "c7839d93",
   "metadata": {},
   "outputs": [],
   "source": [
    "# Forêt aléatoire\n",
    "RF = Pipeline(steps=[('preprocessor', preprocessor ),\n",
    "                   ('RF', RandomForestRegressor(n_estimators = 505, max_depth = 8, random_state=12)) ])\n",
    "\n",
    "# Gradient boosting \n",
    "GB = Pipeline(steps=[('preprocessor', preprocessor ),\n",
    "                   ('GB', GradientBoostingRegressor(n_estimators = 425, max_depth = 2, random_state=12)) ])\n",
    "\n",
    "# K Plus proches voisins \n",
    "KNN = Pipeline(steps=[('preprocessor', preprocessor ),\n",
    "                   ('KNN', KNeighborsRegressor(n_neighbors = 18)) ])\n",
    "\n",
    "# Machine à vecteur de support\n",
    "MVS = Pipeline(steps=[('preprocessor', preprocessor ),\n",
    "                   ('MVS', svm.SVR(C = 5, epsilon = 1))])\n",
    "\n",
    "# Reseau de neurones\n",
    "MLP = Pipeline(steps=[('preprocessor', preprocessor ),\n",
    "                   ('MLP', MLPRegressor(hidden_layer_sizes = 929, random_state=12))])"
   ]
  },
  {
   "cell_type": "markdown",
   "id": "3ce4c06f",
   "metadata": {},
   "source": [
    "> 6 - Boucle d'évaluation de tous les modèles"
   ]
  },
  {
   "cell_type": "code",
   "execution_count": 99,
   "id": "e9718cdd",
   "metadata": {},
   "outputs": [
    {
     "name": "stdout",
     "output_type": "stream",
     "text": [
      "Forêt aléatoire\n",
      "R2:  0.9803688780659372\n",
      "MSE:  1.0876176337302843\n",
      "RMSE:  1.0428890802622703\n",
      "AIC:  7.695544471443053\n",
      "------------------------------\n",
      "Gradient Boosting\n",
      "R2:  0.991326969454848\n",
      "MSE:  0.48050951904185984\n",
      "RMSE:  0.6931879391924385\n",
      "AIC:  -28.247962562946157\n",
      "------------------------------\n",
      "K Plus proches voisins\n",
      "R2:  0.9819045636507929\n",
      "MSE:  1.002536468855219\n",
      "RMSE:  1.0012674312366396\n",
      "AIC:  4.111463327684277\n",
      "------------------------------\n",
      "Machine à vecteur de support\n",
      "R2:  0.980083665515762\n",
      "MSE:  1.103419185978473\n",
      "RMSE:  1.0504376164144509\n",
      "AIC:  8.330203229384622\n",
      "------------------------------\n",
      "Reseau de neurones\n",
      "R2:  0.9587510655276732\n",
      "MSE:  2.2853033390233137\n",
      "RMSE:  1.5117219780843678\n",
      "AIC:  40.36594578509887\n",
      "------------------------------\n"
     ]
    }
   ],
   "source": [
    "models = [('Forêt aléatoire', RF),\n",
    "          ('Gradient Boosting', GB),\n",
    "          ('K Plus proches voisins', KNN),\n",
    "          ('Machine à vecteur de support', MVS),\n",
    "          ('Reseau de neurones', MLP)]\n",
    "\n",
    "\n",
    "\n",
    "for model in models: #for loop through the three models\n",
    "    reg = model[1]  #initialize the model object\n",
    "    reg.fit(X_train,y_train)  #fitting the training data\n",
    "    y_pred = reg.predict(X_test)  #predict target\n",
    "    print(model[0])\n",
    "    print('R2: ',r2_score(y_test, y_pred))  #check r2 score\n",
    "    print('MSE: ',mean_squared_error(y_test, y_pred))\n",
    "    print('RMSE: ', np.sqrt(mean_squared_error(y_test, y_pred)))  #check root mean squared error\n",
    "    print('AIC: ',aic.aic(y_test, y_pred, 2))\n",
    "    print('-'*30)"
   ]
  },
  {
   "cell_type": "markdown",
   "id": "528e1b23",
   "metadata": {},
   "source": [
    "#### le gradient boosting à la valeur de l'AIC la plus basse; on va utiliser cette algorithme pour la prédiction"
   ]
  },
  {
   "cell_type": "markdown",
   "id": "5da29504",
   "metadata": {},
   "source": [
    "> 7 - Courbes d'apprentissage pour les différents modèles"
   ]
  },
  {
   "cell_type": "code",
   "execution_count": null,
   "id": "553c6898",
   "metadata": {},
   "outputs": [
    {
     "name": "stdout",
     "output_type": "stream",
     "text": [
      "[  1   7  12  18  24  30  36  41  47  53  59  64  70  76  82  88  93  99\n",
      " 105 111 116 122 128 134 140]\n",
      "[  1   7  12  18  24  30  36  41  47  53  59  64  70  76  82  88  93  99\n",
      " 105 111 116 122 128 134 140]\n",
      "[  1   7  12  18  24  30  36  41  47  53  59  64  70  76  82  88  93  99\n",
      " 105 111 116 122 128 134 140]\n",
      "[  1   7  12  18  24  30  36  41  47  53  59  64  70  76  82  88  93  99\n",
      " 105 111 116 122 128 134 140]\n"
     ]
    }
   ],
   "source": [
    "fig = plt.figure(figsize=(10,6))\n",
    "plt.subplot(3,2,1)\n",
    "N, train_score, val_score = learning_curve(RF, X_train, y_train, \n",
    "                                           train_sizes = np.linspace(0.01, 1.0, 25), cv = 5)\n",
    "print(N)\n",
    "plt.plot(N,train_score.mean(axis=1), label='train')\n",
    "plt.plot(N,val_score.mean(axis=1), label='validation')\n",
    "plt.xlabel('Foêt aléatoire', color = 'b', fontsize = 13)\n",
    "plt.legend(fontsize = 11)\n",
    "\n",
    "\n",
    "#plt.figure(figsize=(10,6))\n",
    "plt.subplot(3,2,2)\n",
    "N, train_score, val_score = learning_curve(GB, X_train, y_train, \n",
    "                                           train_sizes = np.linspace(0.01, 1.0, 25), cv = 5)\n",
    "print(N)\n",
    "plt.plot(N,train_score.mean(axis=1), label='train', color = '#574460')\n",
    "plt.plot(N,val_score.mean(axis=1), label='validation', color = '#009999')\n",
    "plt.xlabel('Boost du gradient', color = 'g', fontsize = 13)\n",
    "plt.legend(fontsize = 11)\n",
    "\n",
    "\n",
    "#plt.figure(figsize=(10,6))\n",
    "plt.subplot(3,2,3)\n",
    "N, train_score, val_score = learning_curve(KNN, X_train, y_train, \n",
    "                                           train_sizes = np.linspace(0.01, 1.0, 25), cv = 5)\n",
    "print(N)\n",
    "plt.plot(N,train_score.mean(axis=1), label='train')\n",
    "plt.plot(N,val_score.mean(axis=1), label='validation')\n",
    "plt.xlabel('K plus proches voisins', color = 'b', fontsize = 13)\n",
    "plt.legend(fontsize = 11)\n",
    "\n",
    "\n",
    "#plt.figure(figsize=(10,6))\n",
    "plt.subplot(3,2,4)\n",
    "N, train_score, val_score = learning_curve(MVS, X_train, y_train, \n",
    "\n",
    "                                           train_sizes = np.linspace(0.01, 1.0, 25), cv = 5)\n",
    "print(N)\n",
    "plt.plot(N,train_score.mean(axis=1), label='train')\n",
    "plt.plot(N,val_score.mean(axis=1), label='validation')\n",
    "plt.xlabel('Machine à vecteur de support', fontsize = 13)\n",
    "plt.legend(fontsize = 11)\n",
    "\n",
    "\n",
    "#plt.figure(figsize=(10,6))\n",
    "plt.subplot(3,2,5)\n",
    "N, train_score, val_score = learning_curve(MLP, X_train, y_train, \n",
    "\n",
    "                                           train_sizes = np.linspace(0.01, 1.0, 25), cv = 5)\n",
    "print(N)\n",
    "plt.plot(N,train_score.mean(axis=1), label='train')\n",
    "plt.plot(N,val_score.mean(axis=1), label='validation')\n",
    "plt.xlabel('Réseau de neurones', color = 'b', fontsize = 13)\n",
    "plt.legend(fontsize = 11)\n",
    "fig.tight_layout()"
   ]
  },
  {
   "cell_type": "markdown",
   "id": "78f7fc6c",
   "metadata": {},
   "source": [
    "> Fonction de prédiction"
   ]
  },
  {
   "cell_type": "code",
   "execution_count": 51,
   "id": "04320444",
   "metadata": {},
   "outputs": [],
   "source": [
    "# Pour les raisons de calcul: on renomme le rapport vms/cvf en vems_cvf \n",
    "df.columns = df.columns.str.replace('vems/cvf', 'vems_cvf')\n",
    "y = df['aex_cameroun']\n",
    "X = df.drop(columns =['aex_cameroun'])\n",
    "X_train, X_test, y_train, y_test = train_test_split(X, y,test_size=0.2, random_state=0)"
   ]
  },
  {
   "cell_type": "code",
   "execution_count": 52,
   "id": "e7f7f35b",
   "metadata": {},
   "outputs": [
    {
     "data": {
      "text/html": [
       "<div>\n",
       "<style scoped>\n",
       "    .dataframe tbody tr th:only-of-type {\n",
       "        vertical-align: middle;\n",
       "    }\n",
       "\n",
       "    .dataframe tbody tr th {\n",
       "        vertical-align: top;\n",
       "    }\n",
       "\n",
       "    .dataframe thead th {\n",
       "        text-align: right;\n",
       "    }\n",
       "</style>\n",
       "<table border=\"1\" class=\"dataframe\">\n",
       "  <thead>\n",
       "    <tr style=\"text-align: right;\">\n",
       "      <th></th>\n",
       "      <th>vems</th>\n",
       "      <th>cvf</th>\n",
       "      <th>vems_cvf</th>\n",
       "      <th>dem25</th>\n",
       "      <th>dem50</th>\n",
       "      <th>dem75</th>\n",
       "      <th>aex_cameroun</th>\n",
       "    </tr>\n",
       "  </thead>\n",
       "  <tbody>\n",
       "    <tr>\n",
       "      <th>0</th>\n",
       "      <td>2.19</td>\n",
       "      <td>2.57</td>\n",
       "      <td>85.0</td>\n",
       "      <td>1.30</td>\n",
       "      <td>4.36</td>\n",
       "      <td>6.61</td>\n",
       "      <td>17.86</td>\n",
       "    </tr>\n",
       "    <tr>\n",
       "      <th>1</th>\n",
       "      <td>1.01</td>\n",
       "      <td>1.28</td>\n",
       "      <td>79.0</td>\n",
       "      <td>0.52</td>\n",
       "      <td>1.58</td>\n",
       "      <td>2.08</td>\n",
       "      <td>4.78</td>\n",
       "    </tr>\n",
       "    <tr>\n",
       "      <th>2</th>\n",
       "      <td>2.31</td>\n",
       "      <td>2.61</td>\n",
       "      <td>89.0</td>\n",
       "      <td>1.52</td>\n",
       "      <td>4.30</td>\n",
       "      <td>6.15</td>\n",
       "      <td>17.95</td>\n",
       "    </tr>\n",
       "    <tr>\n",
       "      <th>3</th>\n",
       "      <td>3.00</td>\n",
       "      <td>3.37</td>\n",
       "      <td>89.0</td>\n",
       "      <td>2.20</td>\n",
       "      <td>8.84</td>\n",
       "      <td>11.12</td>\n",
       "      <td>37.39</td>\n",
       "    </tr>\n",
       "    <tr>\n",
       "      <th>4</th>\n",
       "      <td>3.08</td>\n",
       "      <td>3.86</td>\n",
       "      <td>80.0</td>\n",
       "      <td>1.43</td>\n",
       "      <td>3.14</td>\n",
       "      <td>4.75</td>\n",
       "      <td>18.94</td>\n",
       "    </tr>\n",
       "  </tbody>\n",
       "</table>\n",
       "</div>"
      ],
      "text/plain": [
       "   vems   cvf  vems_cvf  dem25  dem50  dem75  aex_cameroun\n",
       "0  2.19  2.57      85.0   1.30   4.36   6.61         17.86\n",
       "1  1.01  1.28      79.0   0.52   1.58   2.08          4.78\n",
       "2  2.31  2.61      89.0   1.52   4.30   6.15         17.95\n",
       "3  3.00  3.37      89.0   2.20   8.84  11.12         37.39\n",
       "4  3.08  3.86      80.0   1.43   3.14   4.75         18.94"
      ]
     },
     "execution_count": 52,
     "metadata": {},
     "output_type": "execute_result"
    }
   ],
   "source": [
    "df.head()"
   ]
  },
  {
   "cell_type": "code",
   "execution_count": 53,
   "id": "5ba8aa1a",
   "metadata": {},
   "outputs": [],
   "source": [
    "## Fonction de calcul\n",
    "def prediction_aex_cameroun (vems, cvf, vems_cvf, dem25, dem50, dem75):\n",
    "    # Prediction espérance = médiane\n",
    "    predicteur = Pipeline(steps=[('preprocessor', preprocessor ),\n",
    "                   ('GB', GradientBoostingRegressor(n_estimators = 425, max_depth = 2, random_state=12)) ])\n",
    "    predicteur.fit(X_train, y_train)\n",
    "    var = {'vems':[vems],\n",
    "           'cvf':[cvf],\n",
    "           'vems_cvf':[vems_cvf],\n",
    "           'dem25':[dem25],\n",
    "           'dem50':[dem50],\n",
    "           'dem75':[dem75] \n",
    "          }\n",
    "    X1 = pd.DataFrame (var)\n",
    "    pred_aex_cameroun = predicteur.predict(X1)\n",
    "    table = pd.DataFrame([pred_aex_cameroun[0]]).T\n",
    "    table.columns = [\"aex_cameroun\"]\n",
    "    return table"
   ]
  },
  {
   "cell_type": "markdown",
   "id": "56c8ffc9",
   "metadata": {},
   "source": [
    "##### Vérification: prédiction de aex_cameroun pour la ligne 74 de notre table"
   ]
  },
  {
   "cell_type": "code",
   "execution_count": 61,
   "id": "0fa1ac72",
   "metadata": {},
   "outputs": [
    {
     "name": "stdout",
     "output_type": "stream",
     "text": [
      "Valeur prédicte de aex_cameroun\n"
     ]
    },
    {
     "data": {
      "text/html": [
       "<div>\n",
       "<style scoped>\n",
       "    .dataframe tbody tr th:only-of-type {\n",
       "        vertical-align: middle;\n",
       "    }\n",
       "\n",
       "    .dataframe tbody tr th {\n",
       "        vertical-align: top;\n",
       "    }\n",
       "\n",
       "    .dataframe thead th {\n",
       "        text-align: right;\n",
       "    }\n",
       "</style>\n",
       "<table border=\"1\" class=\"dataframe\">\n",
       "  <thead>\n",
       "    <tr style=\"text-align: right;\">\n",
       "      <th></th>\n",
       "      <th>aex_cameroun</th>\n",
       "    </tr>\n",
       "  </thead>\n",
       "  <tbody>\n",
       "    <tr>\n",
       "      <th>values</th>\n",
       "      <td>27.570627</td>\n",
       "    </tr>\n",
       "  </tbody>\n",
       "</table>\n",
       "</div>"
      ],
      "text/plain": [
       "        aex_cameroun\n",
       "values     27.570627"
      ]
     },
     "execution_count": 61,
     "metadata": {},
     "output_type": "execute_result"
    }
   ],
   "source": [
    "pred = prediction_aex_cameroun (vems = 3.06, cvf = 3.57, vems_cvf = 86.0, dem25 = 2.12, dem50 = 4.95, dem75 = 7.79).T\n",
    "pred.columns = [\"values\"]\n",
    "prediction = pred.T\n",
    "print('Valeur prédicte de aex_cameroun')\n",
    "prediction"
   ]
  },
  {
   "cell_type": "code",
   "execution_count": 62,
   "id": "7062468f",
   "metadata": {},
   "outputs": [
    {
     "name": "stdout",
     "output_type": "stream",
     "text": [
      "Valeur réel de aex_cameroun\n"
     ]
    },
    {
     "data": {
      "text/plain": [
       "26.87"
      ]
     },
     "execution_count": 62,
     "metadata": {},
     "output_type": "execute_result"
    }
   ],
   "source": [
    "print('Valeur réel de aex_cameroun')\n",
    "df.loc[df.index[5], 'aex_cameroun']"
   ]
  },
  {
   "cell_type": "markdown",
   "id": "70deef78",
   "metadata": {},
   "source": [
    "> Rassembler plusieurs prédicteurs pour choisir le plus performent lors de la prédiction"
   ]
  },
  {
   "cell_type": "code",
   "execution_count": 63,
   "id": "94e8c88f",
   "metadata": {},
   "outputs": [],
   "source": [
    "reg1 = RF\n",
    "reg2 = GB\n",
    "reg3 = MVS\n",
    "reg4 = MLP\n",
    "ereg = VotingRegressor(estimators=[('rf', reg1), ('gb', reg2), ('mvs', reg3), ('mlp', reg4)])\n",
    "ereg = ereg.fit(X_train, y_train)"
   ]
  },
  {
   "cell_type": "code",
   "execution_count": 64,
   "id": "93a990eb",
   "metadata": {},
   "outputs": [
    {
     "data": {
      "text/html": [
       "<style>#sk-container-id-2 {color: black;}#sk-container-id-2 pre{padding: 0;}#sk-container-id-2 div.sk-toggleable {background-color: white;}#sk-container-id-2 label.sk-toggleable__label {cursor: pointer;display: block;width: 100%;margin-bottom: 0;padding: 0.3em;box-sizing: border-box;text-align: center;}#sk-container-id-2 label.sk-toggleable__label-arrow:before {content: \"▸\";float: left;margin-right: 0.25em;color: #696969;}#sk-container-id-2 label.sk-toggleable__label-arrow:hover:before {color: black;}#sk-container-id-2 div.sk-estimator:hover label.sk-toggleable__label-arrow:before {color: black;}#sk-container-id-2 div.sk-toggleable__content {max-height: 0;max-width: 0;overflow: hidden;text-align: left;background-color: #f0f8ff;}#sk-container-id-2 div.sk-toggleable__content pre {margin: 0.2em;color: black;border-radius: 0.25em;background-color: #f0f8ff;}#sk-container-id-2 input.sk-toggleable__control:checked~div.sk-toggleable__content {max-height: 200px;max-width: 100%;overflow: auto;}#sk-container-id-2 input.sk-toggleable__control:checked~label.sk-toggleable__label-arrow:before {content: \"▾\";}#sk-container-id-2 div.sk-estimator input.sk-toggleable__control:checked~label.sk-toggleable__label {background-color: #d4ebff;}#sk-container-id-2 div.sk-label input.sk-toggleable__control:checked~label.sk-toggleable__label {background-color: #d4ebff;}#sk-container-id-2 input.sk-hidden--visually {border: 0;clip: rect(1px 1px 1px 1px);clip: rect(1px, 1px, 1px, 1px);height: 1px;margin: -1px;overflow: hidden;padding: 0;position: absolute;width: 1px;}#sk-container-id-2 div.sk-estimator {font-family: monospace;background-color: #f0f8ff;border: 1px dotted black;border-radius: 0.25em;box-sizing: border-box;margin-bottom: 0.5em;}#sk-container-id-2 div.sk-estimator:hover {background-color: #d4ebff;}#sk-container-id-2 div.sk-parallel-item::after {content: \"\";width: 100%;border-bottom: 1px solid gray;flex-grow: 1;}#sk-container-id-2 div.sk-label:hover label.sk-toggleable__label {background-color: #d4ebff;}#sk-container-id-2 div.sk-serial::before {content: \"\";position: absolute;border-left: 1px solid gray;box-sizing: border-box;top: 0;bottom: 0;left: 50%;z-index: 0;}#sk-container-id-2 div.sk-serial {display: flex;flex-direction: column;align-items: center;background-color: white;padding-right: 0.2em;padding-left: 0.2em;position: relative;}#sk-container-id-2 div.sk-item {position: relative;z-index: 1;}#sk-container-id-2 div.sk-parallel {display: flex;align-items: stretch;justify-content: center;background-color: white;position: relative;}#sk-container-id-2 div.sk-item::before, #sk-container-id-2 div.sk-parallel-item::before {content: \"\";position: absolute;border-left: 1px solid gray;box-sizing: border-box;top: 0;bottom: 0;left: 50%;z-index: -1;}#sk-container-id-2 div.sk-parallel-item {display: flex;flex-direction: column;z-index: 1;position: relative;background-color: white;}#sk-container-id-2 div.sk-parallel-item:first-child::after {align-self: flex-end;width: 50%;}#sk-container-id-2 div.sk-parallel-item:last-child::after {align-self: flex-start;width: 50%;}#sk-container-id-2 div.sk-parallel-item:only-child::after {width: 0;}#sk-container-id-2 div.sk-dashed-wrapped {border: 1px dashed gray;margin: 0 0.4em 0.5em 0.4em;box-sizing: border-box;padding-bottom: 0.4em;background-color: white;}#sk-container-id-2 div.sk-label label {font-family: monospace;font-weight: bold;display: inline-block;line-height: 1.2em;}#sk-container-id-2 div.sk-label-container {text-align: center;}#sk-container-id-2 div.sk-container {/* jupyter's `normalize.less` sets `[hidden] { display: none; }` but bootstrap.min.css set `[hidden] { display: none !important; }` so we also need the `!important` here to be able to override the default hidden behavior on the sphinx rendered scikit-learn.org. See: https://github.com/scikit-learn/scikit-learn/issues/21755 */display: inline-block !important;position: relative;}#sk-container-id-2 div.sk-text-repr-fallback {display: none;}</style><div id=\"sk-container-id-2\" class=\"sk-top-container\"><div class=\"sk-text-repr-fallback\"><pre>VotingRegressor(estimators=[(&#x27;rf&#x27;,\n",
       "                             Pipeline(steps=[(&#x27;preprocessor&#x27;,\n",
       "                                              ColumnTransformer(transformers=[(&#x27;scaler&#x27;,\n",
       "                                                                               RobustScaler(),\n",
       "                                                                               &lt;sklearn.compose._column_transformer.make_column_selector object at 0x0000021598B130D0&gt;)])),\n",
       "                                             (&#x27;RF&#x27;,\n",
       "                                              RandomForestRegressor(max_depth=8,\n",
       "                                                                    n_estimators=505,\n",
       "                                                                    random_state=12))])),\n",
       "                            (&#x27;gb&#x27;,\n",
       "                             Pipeline(steps=[(&#x27;preprocessor&#x27;,\n",
       "                                              ColumnTransformer(tran...\n",
       "                                                                               &lt;sklearn.compose._column_transformer.make_column_selector object at 0x0000021598B130D0&gt;)])),\n",
       "                                             (&#x27;MVS&#x27;, SVR(C=5, epsilon=0.2))])),\n",
       "                            (&#x27;mlp&#x27;,\n",
       "                             Pipeline(steps=[(&#x27;preprocessor&#x27;,\n",
       "                                              ColumnTransformer(transformers=[(&#x27;scaler&#x27;,\n",
       "                                                                               RobustScaler(),\n",
       "                                                                               &lt;sklearn.compose._column_transformer.make_column_selector object at 0x0000021598B130D0&gt;)])),\n",
       "                                             (&#x27;MLP&#x27;,\n",
       "                                              MLPRegressor(hidden_layer_sizes=929,\n",
       "                                                           random_state=12))]))])</pre><b>In a Jupyter environment, please rerun this cell to show the HTML representation or trust the notebook. <br />On GitHub, the HTML representation is unable to render, please try loading this page with nbviewer.org.</b></div><div class=\"sk-container\" hidden><div class=\"sk-item sk-dashed-wrapped\"><div class=\"sk-label-container\"><div class=\"sk-label sk-toggleable\"><input class=\"sk-toggleable__control sk-hidden--visually\" id=\"sk-estimator-id-18\" type=\"checkbox\" ><label for=\"sk-estimator-id-18\" class=\"sk-toggleable__label sk-toggleable__label-arrow\">VotingRegressor</label><div class=\"sk-toggleable__content\"><pre>VotingRegressor(estimators=[(&#x27;rf&#x27;,\n",
       "                             Pipeline(steps=[(&#x27;preprocessor&#x27;,\n",
       "                                              ColumnTransformer(transformers=[(&#x27;scaler&#x27;,\n",
       "                                                                               RobustScaler(),\n",
       "                                                                               &lt;sklearn.compose._column_transformer.make_column_selector object at 0x0000021598B130D0&gt;)])),\n",
       "                                             (&#x27;RF&#x27;,\n",
       "                                              RandomForestRegressor(max_depth=8,\n",
       "                                                                    n_estimators=505,\n",
       "                                                                    random_state=12))])),\n",
       "                            (&#x27;gb&#x27;,\n",
       "                             Pipeline(steps=[(&#x27;preprocessor&#x27;,\n",
       "                                              ColumnTransformer(tran...\n",
       "                                                                               &lt;sklearn.compose._column_transformer.make_column_selector object at 0x0000021598B130D0&gt;)])),\n",
       "                                             (&#x27;MVS&#x27;, SVR(C=5, epsilon=0.2))])),\n",
       "                            (&#x27;mlp&#x27;,\n",
       "                             Pipeline(steps=[(&#x27;preprocessor&#x27;,\n",
       "                                              ColumnTransformer(transformers=[(&#x27;scaler&#x27;,\n",
       "                                                                               RobustScaler(),\n",
       "                                                                               &lt;sklearn.compose._column_transformer.make_column_selector object at 0x0000021598B130D0&gt;)])),\n",
       "                                             (&#x27;MLP&#x27;,\n",
       "                                              MLPRegressor(hidden_layer_sizes=929,\n",
       "                                                           random_state=12))]))])</pre></div></div></div><div class=\"sk-parallel\"><div class=\"sk-parallel-item\"><div class=\"sk-item\"><div class=\"sk-label-container\"><div class=\"sk-label sk-toggleable\"><label>rf</label></div></div><div class=\"sk-serial\"><div class=\"sk-item\"><div class=\"sk-serial\"><div class=\"sk-item sk-dashed-wrapped\"><div class=\"sk-label-container\"><div class=\"sk-label sk-toggleable\"><input class=\"sk-toggleable__control sk-hidden--visually\" id=\"sk-estimator-id-19\" type=\"checkbox\" ><label for=\"sk-estimator-id-19\" class=\"sk-toggleable__label sk-toggleable__label-arrow\">preprocessor: ColumnTransformer</label><div class=\"sk-toggleable__content\"><pre>ColumnTransformer(transformers=[(&#x27;scaler&#x27;, RobustScaler(),\n",
       "                                 &lt;sklearn.compose._column_transformer.make_column_selector object at 0x0000021598B130D0&gt;)])</pre></div></div></div><div class=\"sk-parallel\"><div class=\"sk-parallel-item\"><div class=\"sk-item\"><div class=\"sk-label-container\"><div class=\"sk-label sk-toggleable\"><input class=\"sk-toggleable__control sk-hidden--visually\" id=\"sk-estimator-id-20\" type=\"checkbox\" ><label for=\"sk-estimator-id-20\" class=\"sk-toggleable__label sk-toggleable__label-arrow\">scaler</label><div class=\"sk-toggleable__content\"><pre>&lt;sklearn.compose._column_transformer.make_column_selector object at 0x0000021598B130D0&gt;</pre></div></div></div><div class=\"sk-serial\"><div class=\"sk-item\"><div class=\"sk-estimator sk-toggleable\"><input class=\"sk-toggleable__control sk-hidden--visually\" id=\"sk-estimator-id-21\" type=\"checkbox\" ><label for=\"sk-estimator-id-21\" class=\"sk-toggleable__label sk-toggleable__label-arrow\">RobustScaler</label><div class=\"sk-toggleable__content\"><pre>RobustScaler()</pre></div></div></div></div></div></div></div></div><div class=\"sk-item\"><div class=\"sk-estimator sk-toggleable\"><input class=\"sk-toggleable__control sk-hidden--visually\" id=\"sk-estimator-id-22\" type=\"checkbox\" ><label for=\"sk-estimator-id-22\" class=\"sk-toggleable__label sk-toggleable__label-arrow\">RandomForestRegressor</label><div class=\"sk-toggleable__content\"><pre>RandomForestRegressor(max_depth=8, n_estimators=505, random_state=12)</pre></div></div></div></div></div></div></div></div><div class=\"sk-parallel-item\"><div class=\"sk-item\"><div class=\"sk-label-container\"><div class=\"sk-label sk-toggleable\"><label>gb</label></div></div><div class=\"sk-serial\"><div class=\"sk-item\"><div class=\"sk-serial\"><div class=\"sk-item sk-dashed-wrapped\"><div class=\"sk-label-container\"><div class=\"sk-label sk-toggleable\"><input class=\"sk-toggleable__control sk-hidden--visually\" id=\"sk-estimator-id-23\" type=\"checkbox\" ><label for=\"sk-estimator-id-23\" class=\"sk-toggleable__label sk-toggleable__label-arrow\">preprocessor: ColumnTransformer</label><div class=\"sk-toggleable__content\"><pre>ColumnTransformer(transformers=[(&#x27;scaler&#x27;, RobustScaler(),\n",
       "                                 &lt;sklearn.compose._column_transformer.make_column_selector object at 0x0000021598B130D0&gt;)])</pre></div></div></div><div class=\"sk-parallel\"><div class=\"sk-parallel-item\"><div class=\"sk-item\"><div class=\"sk-label-container\"><div class=\"sk-label sk-toggleable\"><input class=\"sk-toggleable__control sk-hidden--visually\" id=\"sk-estimator-id-24\" type=\"checkbox\" ><label for=\"sk-estimator-id-24\" class=\"sk-toggleable__label sk-toggleable__label-arrow\">scaler</label><div class=\"sk-toggleable__content\"><pre>&lt;sklearn.compose._column_transformer.make_column_selector object at 0x0000021598B130D0&gt;</pre></div></div></div><div class=\"sk-serial\"><div class=\"sk-item\"><div class=\"sk-estimator sk-toggleable\"><input class=\"sk-toggleable__control sk-hidden--visually\" id=\"sk-estimator-id-25\" type=\"checkbox\" ><label for=\"sk-estimator-id-25\" class=\"sk-toggleable__label sk-toggleable__label-arrow\">RobustScaler</label><div class=\"sk-toggleable__content\"><pre>RobustScaler()</pre></div></div></div></div></div></div></div></div><div class=\"sk-item\"><div class=\"sk-estimator sk-toggleable\"><input class=\"sk-toggleable__control sk-hidden--visually\" id=\"sk-estimator-id-26\" type=\"checkbox\" ><label for=\"sk-estimator-id-26\" class=\"sk-toggleable__label sk-toggleable__label-arrow\">GradientBoostingRegressor</label><div class=\"sk-toggleable__content\"><pre>GradientBoostingRegressor(max_depth=2, n_estimators=425, random_state=12)</pre></div></div></div></div></div></div></div></div><div class=\"sk-parallel-item\"><div class=\"sk-item\"><div class=\"sk-label-container\"><div class=\"sk-label sk-toggleable\"><label>mvs</label></div></div><div class=\"sk-serial\"><div class=\"sk-item\"><div class=\"sk-serial\"><div class=\"sk-item sk-dashed-wrapped\"><div class=\"sk-label-container\"><div class=\"sk-label sk-toggleable\"><input class=\"sk-toggleable__control sk-hidden--visually\" id=\"sk-estimator-id-27\" type=\"checkbox\" ><label for=\"sk-estimator-id-27\" class=\"sk-toggleable__label sk-toggleable__label-arrow\">preprocessor: ColumnTransformer</label><div class=\"sk-toggleable__content\"><pre>ColumnTransformer(transformers=[(&#x27;scaler&#x27;, RobustScaler(),\n",
       "                                 &lt;sklearn.compose._column_transformer.make_column_selector object at 0x0000021598B130D0&gt;)])</pre></div></div></div><div class=\"sk-parallel\"><div class=\"sk-parallel-item\"><div class=\"sk-item\"><div class=\"sk-label-container\"><div class=\"sk-label sk-toggleable\"><input class=\"sk-toggleable__control sk-hidden--visually\" id=\"sk-estimator-id-28\" type=\"checkbox\" ><label for=\"sk-estimator-id-28\" class=\"sk-toggleable__label sk-toggleable__label-arrow\">scaler</label><div class=\"sk-toggleable__content\"><pre>&lt;sklearn.compose._column_transformer.make_column_selector object at 0x0000021598B130D0&gt;</pre></div></div></div><div class=\"sk-serial\"><div class=\"sk-item\"><div class=\"sk-estimator sk-toggleable\"><input class=\"sk-toggleable__control sk-hidden--visually\" id=\"sk-estimator-id-29\" type=\"checkbox\" ><label for=\"sk-estimator-id-29\" class=\"sk-toggleable__label sk-toggleable__label-arrow\">RobustScaler</label><div class=\"sk-toggleable__content\"><pre>RobustScaler()</pre></div></div></div></div></div></div></div></div><div class=\"sk-item\"><div class=\"sk-estimator sk-toggleable\"><input class=\"sk-toggleable__control sk-hidden--visually\" id=\"sk-estimator-id-30\" type=\"checkbox\" ><label for=\"sk-estimator-id-30\" class=\"sk-toggleable__label sk-toggleable__label-arrow\">SVR</label><div class=\"sk-toggleable__content\"><pre>SVR(C=5, epsilon=0.2)</pre></div></div></div></div></div></div></div></div><div class=\"sk-parallel-item\"><div class=\"sk-item\"><div class=\"sk-label-container\"><div class=\"sk-label sk-toggleable\"><label>mlp</label></div></div><div class=\"sk-serial\"><div class=\"sk-item\"><div class=\"sk-serial\"><div class=\"sk-item sk-dashed-wrapped\"><div class=\"sk-label-container\"><div class=\"sk-label sk-toggleable\"><input class=\"sk-toggleable__control sk-hidden--visually\" id=\"sk-estimator-id-31\" type=\"checkbox\" ><label for=\"sk-estimator-id-31\" class=\"sk-toggleable__label sk-toggleable__label-arrow\">preprocessor: ColumnTransformer</label><div class=\"sk-toggleable__content\"><pre>ColumnTransformer(transformers=[(&#x27;scaler&#x27;, RobustScaler(),\n",
       "                                 &lt;sklearn.compose._column_transformer.make_column_selector object at 0x0000021598B130D0&gt;)])</pre></div></div></div><div class=\"sk-parallel\"><div class=\"sk-parallel-item\"><div class=\"sk-item\"><div class=\"sk-label-container\"><div class=\"sk-label sk-toggleable\"><input class=\"sk-toggleable__control sk-hidden--visually\" id=\"sk-estimator-id-32\" type=\"checkbox\" ><label for=\"sk-estimator-id-32\" class=\"sk-toggleable__label sk-toggleable__label-arrow\">scaler</label><div class=\"sk-toggleable__content\"><pre>&lt;sklearn.compose._column_transformer.make_column_selector object at 0x0000021598B130D0&gt;</pre></div></div></div><div class=\"sk-serial\"><div class=\"sk-item\"><div class=\"sk-estimator sk-toggleable\"><input class=\"sk-toggleable__control sk-hidden--visually\" id=\"sk-estimator-id-33\" type=\"checkbox\" ><label for=\"sk-estimator-id-33\" class=\"sk-toggleable__label sk-toggleable__label-arrow\">RobustScaler</label><div class=\"sk-toggleable__content\"><pre>RobustScaler()</pre></div></div></div></div></div></div></div></div><div class=\"sk-item\"><div class=\"sk-estimator sk-toggleable\"><input class=\"sk-toggleable__control sk-hidden--visually\" id=\"sk-estimator-id-34\" type=\"checkbox\" ><label for=\"sk-estimator-id-34\" class=\"sk-toggleable__label sk-toggleable__label-arrow\">MLPRegressor</label><div class=\"sk-toggleable__content\"><pre>MLPRegressor(hidden_layer_sizes=929, random_state=12)</pre></div></div></div></div></div></div></div></div></div></div></div></div>"
      ],
      "text/plain": [
       "VotingRegressor(estimators=[('rf',\n",
       "                             Pipeline(steps=[('preprocessor',\n",
       "                                              ColumnTransformer(transformers=[('scaler',\n",
       "                                                                               RobustScaler(),\n",
       "                                                                               <sklearn.compose._column_transformer.make_column_selector object at 0x0000021598B130D0>)])),\n",
       "                                             ('RF',\n",
       "                                              RandomForestRegressor(max_depth=8,\n",
       "                                                                    n_estimators=505,\n",
       "                                                                    random_state=12))])),\n",
       "                            ('gb',\n",
       "                             Pipeline(steps=[('preprocessor',\n",
       "                                              ColumnTransformer(tran...\n",
       "                                                                               <sklearn.compose._column_transformer.make_column_selector object at 0x0000021598B130D0>)])),\n",
       "                                             ('MVS', SVR(C=5, epsilon=0.2))])),\n",
       "                            ('mlp',\n",
       "                             Pipeline(steps=[('preprocessor',\n",
       "                                              ColumnTransformer(transformers=[('scaler',\n",
       "                                                                               RobustScaler(),\n",
       "                                                                               <sklearn.compose._column_transformer.make_column_selector object at 0x0000021598B130D0>)])),\n",
       "                                             ('MLP',\n",
       "                                              MLPRegressor(hidden_layer_sizes=929,\n",
       "                                                           random_state=12))]))])"
      ]
     },
     "execution_count": 64,
     "metadata": {},
     "output_type": "execute_result"
    }
   ],
   "source": [
    "ereg"
   ]
  },
  {
   "cell_type": "code",
   "execution_count": 65,
   "id": "ca4c37dd",
   "metadata": {},
   "outputs": [],
   "source": [
    "## Fonction de calcul\n",
    "def stacking_prediction_aex_cameroun (vems, cvf, vems_cvf, dem25, dem50, dem75):\n",
    "    # Prediction espérance = médiane\n",
    "    predicteur = ereg\n",
    "    predicteur.fit(X_train, y_train)\n",
    "    var = {'vems':[vems],\n",
    "           'cvf':[cvf],\n",
    "           'vems_cvf':[vems_cvf],\n",
    "           'dem25':[dem25],\n",
    "           'dem50':[dem50],\n",
    "           'dem75':[dem75] \n",
    "          }\n",
    "    X1 = pd.DataFrame (var)\n",
    "    pred_aex_cameroun = predicteur.predict(X1)\n",
    "    table = pd.DataFrame([pred_aex_cameroun[0]]).T\n",
    "    table.columns = [\"aex_cameroun\"]\n",
    "    return table"
   ]
  },
  {
   "cell_type": "markdown",
   "id": "9f2341d6",
   "metadata": {},
   "source": [
    "> Prédiction avec l'ensemble des prédicteurs "
   ]
  },
  {
   "cell_type": "code",
   "execution_count": 66,
   "id": "b11b4515",
   "metadata": {},
   "outputs": [
    {
     "name": "stdout",
     "output_type": "stream",
     "text": [
      "Valeur prédicte de aex_cameroun\n"
     ]
    },
    {
     "data": {
      "text/html": [
       "<div>\n",
       "<style scoped>\n",
       "    .dataframe tbody tr th:only-of-type {\n",
       "        vertical-align: middle;\n",
       "    }\n",
       "\n",
       "    .dataframe tbody tr th {\n",
       "        vertical-align: top;\n",
       "    }\n",
       "\n",
       "    .dataframe thead th {\n",
       "        text-align: right;\n",
       "    }\n",
       "</style>\n",
       "<table border=\"1\" class=\"dataframe\">\n",
       "  <thead>\n",
       "    <tr style=\"text-align: right;\">\n",
       "      <th></th>\n",
       "      <th>aex_cameroun</th>\n",
       "    </tr>\n",
       "  </thead>\n",
       "  <tbody>\n",
       "    <tr>\n",
       "      <th>values</th>\n",
       "      <td>27.062891</td>\n",
       "    </tr>\n",
       "  </tbody>\n",
       "</table>\n",
       "</div>"
      ],
      "text/plain": [
       "        aex_cameroun\n",
       "values     27.062891"
      ]
     },
     "execution_count": 66,
     "metadata": {},
     "output_type": "execute_result"
    }
   ],
   "source": [
    "stack_pred = stacking_prediction_aex_cameroun (vems = 3.06, cvf = 3.57, vems_cvf = 86.0, dem25 = 2.12, dem50 = 4.95, dem75 = 7.79).T\n",
    "stack_pred.columns = [\"values\"]\n",
    "print('Valeur prédicte de aex_cameroun')\n",
    "prediction = stack_pred.T\n",
    "prediction"
   ]
  },
  {
   "cell_type": "markdown",
   "id": "a0a26d5f",
   "metadata": {},
   "source": [
    "#### La prédiction est meilleur lorsqu'on regroupe plusieurs algorithmes "
   ]
  }
 ],
 "metadata": {
  "kernelspec": {
   "display_name": "Python 3 (ipykernel)",
   "language": "python",
   "name": "python3"
  },
  "language_info": {
   "codemirror_mode": {
    "name": "ipython",
    "version": 3
   },
   "file_extension": ".py",
   "mimetype": "text/x-python",
   "name": "python",
   "nbconvert_exporter": "python",
   "pygments_lexer": "ipython3",
   "version": "3.11.4"
  }
 },
 "nbformat": 4,
 "nbformat_minor": 5
}
